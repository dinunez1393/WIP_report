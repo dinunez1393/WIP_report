{
 "cells": [
  {
   "cell_type": "code",
   "execution_count": 1,
   "id": "fce3642d",
   "metadata": {},
   "outputs": [],
   "source": [
    "import pyodbc\n",
    "import numpy as np\n",
    "import pandas as pd\n",
    "import pandas.io.sql as psql\n",
    "from datetime import datetime as dt, timedelta, date, time\n",
    "import tkinter as tk\n",
    "from tkinter import messagebox\n",
    "from tqdm import tqdm\n"
   ]
  },
  {
   "cell_type": "code",
   "execution_count": 3,
   "id": "712300a9",
   "metadata": {},
   "outputs": [],
   "source": [
    "# Create a Tkinter root window\n",
    "root = tk.Tk()\n",
    "root.withdraw()\n",
    "\n",
    "# Show a warning message box with an OK button\n",
    "messagebox.showerror(\"Warning\", \"This is a warning message.\")\n",
    "\n",
    "# Close the Tkinter root window\n",
    "root.destroy()"
   ]
  },
  {
   "cell_type": "code",
   "execution_count": 2,
   "metadata": {},
   "outputs": [
    {
     "name": "stdout",
     "output_type": "stream",
     "text": [
      "Check for NaT?  True\n",
      "115.85533416666667\n"
     ]
    }
   ],
   "source": [
    "# Testing is NaT\n",
    "\n",
    "print(\"Check for NaT? \", np.isnat(np.datetime64(None)))\n",
    "\n",
    "# result = (np.datetime64('2022-07-26 15:11:51.970') - np.datetime64('2022-07-18 10:22:35.990')).astype('timedelta64[s]') / 3600.0\n",
    "\n",
    "# print(float(result))\n",
    "\n",
    "date1 = dt.strptime('2023-09-26 09:00:00.000', '%Y-%m-%d %H:%M:%S.%f')\n",
    "date2 = dt.strptime('2023-09-21 13:08:40.797', '%Y-%m-%d %H:%M:%S.%f')\n",
    "\n",
    "result = (date1 - date2).total_seconds() / 3600.0\n",
    "print(float(result))"
   ]
  },
  {
   "attachments": {},
   "cell_type": "markdown",
   "id": "c8cea931",
   "metadata": {},
   "source": [
    "TIME DIFFERENCE"
   ]
  },
  {
   "cell_type": "code",
   "execution_count": 5,
   "id": "2fb1cc7f",
   "metadata": {},
   "outputs": [
    {
     "name": "stdout",
     "output_type": "stream",
     "text": [
      "The time difference is: 22.87774638861111\n",
      "29.87802388888889\n",
      "1 day, 0:00:00\n",
      "-1 day, 0:00:00\n",
      "False\n",
      "-2\n",
      "8 days, 0:00:00\n",
      "2023-03-22 00:00:00\n"
     ]
    }
   ],
   "source": [
    "# date_1_str = \"2023-03-20 09:17:27.947\"\n",
    "# date_2_str = \"2023-04-26 15:10:08.833\"\n",
    "date_1_str = \"2023-03-20 09:17:27.947\"\n",
    "date_2_str = \"2023-03-21 15:10:08.833\"\n",
    "\n",
    "date_1 = dt.strptime(date_1_str, '%Y-%m-%d %H:%M:%S.%f')\n",
    "date_2 = dt.strptime(date_2_str, '%Y-%m-%d %H:%M:%S.%f')\n",
    "workday_start_T = time(7,0)\n",
    "workday_end_T = time(23,59,59,999)\n",
    "\n",
    "workday_start = dt.combine(date_2.date(), workday_start_T)\n",
    "workday_end = dt.combine(date_1.date(), workday_end_T)\n",
    "\n",
    "print(\"The time difference is:\", ((workday_end - date_1) + (date_2 - workday_start)).total_seconds() / 3600)\n",
    "\n",
    "time_difference = (dt.strptime(date_2_str, '%Y-%m-%d %H:%M:%S.%f') - dt.strptime(date_1_str, '%Y-%m-%d %H:%M:%S.%f')).total_seconds() / 3600\n",
    "time_difference_days = dt.strptime(date_2_str, '%Y-%m-%d %H:%M:%S.%f').date() - dt.strptime(date_1_str, '%Y-%m-%d %H:%M:%S.%f').date()\n",
    "print(time_difference)\n",
    "print(time_difference_days)\n",
    "print(timedelta(days=1) - timedelta(days=2))\n",
    "print(time_difference_days == timedelta(days=37))\n",
    "print((date_1 - date_2).days)\n",
    "print(timedelta(days=2) * 4)\n",
    "\n",
    "new_date = dt.combine(date_1.date() + timedelta(days=2), time(0,0))\n",
    "print(new_date)"
   ]
  },
  {
   "cell_type": "code",
   "execution_count": 2,
   "id": "a75fb162",
   "metadata": {},
   "outputs": [],
   "source": [
    "def delta_working_hours(actual_start, actual_end, calendar=True):\n",
    "    \"\"\"\n",
    "    Function gets the difference between two datetime objects\n",
    "    Calendar flag calculates raw time delta between two datetime objects\n",
    "    Standard flag (calendar=False) calculates time delta between two datetime objects excluding weekends\n",
    "    :param actual_start: The actual start time\n",
    "    :type actual_start: datetime.datetime\n",
    "    :param actual_end: The actual end time\n",
    "    :type actual_end: datetime.datetime\n",
    "    :param calendar: Flag, if True calculate as calendar, if False, calculate as standard working hours\n",
    "    :return: The time delta between actual_start and actual_end\n",
    "    :rtype: float\n",
    "    \"\"\"\n",
    "    seconds_between = (actual_end - actual_start).total_seconds()\n",
    "\n",
    "    # Invalid negative value\n",
    "    if seconds_between < 0:\n",
    "        return 0\n",
    "    elif calendar:\n",
    "        return seconds_between / 3600\n",
    "    else:  # Standard time calculation\n",
    "        workdays_difference = actual_end.date() - actual_start.date()\n",
    "        standard_start_T = time(0, 0)\n",
    "        standard_end_T = time(23, 59, 59, 9999)\n",
    "        weekend_days = 0\n",
    "\n",
    "        # When the work operation occurs on the same day or up to 1 day difference, return the plain difference\n",
    "        if workdays_difference < timedelta(days=2):\n",
    "            return seconds_between / 3600\n",
    "\n",
    "        # Else:\n",
    "        # Assign a new start or end of actual start or actual end if date falls on the weekend\n",
    "        if actual_start.weekday() == 5:\n",
    "            actual_start = dt.combine(actual_start.date() + timedelta(days=2), standard_start_T)\n",
    "        elif actual_start.weekday() == 6:\n",
    "            actual_start = dt.combine(actual_start.date() + timedelta(days=1), standard_start_T)\n",
    "        if actual_end.weekday() == 5:\n",
    "            actual_end = dt.combine(actual_end.date() - timedelta(days=1), standard_end_T)\n",
    "        elif actual_end.weekday() == 6:\n",
    "            actual_end = dt.combine(actual_end.date() - timedelta(days=2), standard_end_T)\n",
    "\n",
    "        # Find weekend days in between the start and end\n",
    "        days_between = (actual_end - actual_start).days\n",
    "        for i in range(1, days_between):\n",
    "            temp_date = actual_start + timedelta(days=i)\n",
    "            if temp_date.weekday() in {5, 6}:\n",
    "                weekend_days += 1\n",
    "\n",
    "        # Return the delta of two timestamps in working standard time (Monday 0:00 - Friday 23:59:59.9999)\n",
    "        return ((actual_end - actual_start).total_seconds() / 3600) - (weekend_days * 24)"
   ]
  },
  {
   "cell_type": "code",
   "execution_count": 3,
   "id": "ce30010d",
   "metadata": {},
   "outputs": [
    {
     "name": "stdout",
     "output_type": "stream",
     "text": [
      "6850.776409166667\n"
     ]
    }
   ],
   "source": [
    "date_1_str = \"2022-11-16 22:13:24.927\"\n",
    "date_2_str = \"2023-12-21 09:00:00.000\"\n",
    "# date_1_str = \"2023-03-20 09:17:27.947\"\n",
    "# date_2_str = \"2023-03-21 15:10:08.833\"\n",
    "\n",
    "date_1 = dt.strptime(date_1_str, '%Y-%m-%d %H:%M:%S.%f')\n",
    "date_2 = dt.strptime(date_2_str, '%Y-%m-%d %H:%M:%S.%f')\n",
    "\n",
    "print(delta_working_hours(date_1, date_2, calendar=False))\n"
   ]
  },
  {
   "attachments": {},
   "cell_type": "markdown",
   "id": "3cf95bbf",
   "metadata": {},
   "source": [
    "STANDARDIZED TIME"
   ]
  },
  {
   "cell_type": "code",
   "execution_count": 2,
   "id": "d2a14a77",
   "metadata": {},
   "outputs": [],
   "source": [
    "def delta_working_hours_std(actual_start, actual_end):\n",
    "    workdays_difference = actual_end.date() - actual_start.date()\n",
    "    days_between = (actual_end - actual_start).days\n",
    "    standard_start_T = time(0, 0)\n",
    "    standard_end_T = time(23, 59, 59, 9999)\n",
    "    weekend_days = 0\n",
    "\n",
    "    # Invalid negative value\n",
    "    if days_between < 0:\n",
    "        return None\n",
    "\n",
    "    # When the work operation occurs on the same day or up to 1 day difference, return the plain difference\n",
    "    if workdays_difference < timedelta(days=2):\n",
    "        return (actual_end - actual_start).total_seconds() / 3600\n",
    "\n",
    "    # Else:\n",
    "    # Assign a new start or end of actual start or actual end fall in the weekend\n",
    "    if actual_start.weekday() == 5:\n",
    "        actual_start = dt.combine(actual_start.date() + timedelta(days=2), standard_start_T)\n",
    "    elif actual_start.weekday() == 6:\n",
    "        actual_start = dt.combine(actual_start.date() + timedelta(days=1), standard_start_T)\n",
    "    if actual_end.weekday() == 5:\n",
    "        actual_end = dt.combine(actual_end.date() - timedelta(days=1), standard_end_T)\n",
    "    elif actual_end.weekday() == 6:\n",
    "        actual_end = dt.combine(actual_end.date() - timedelta(days=2), standard_end_T)\n",
    "\n",
    "    # Find weekend days in between the start and end\n",
    "    for i in range(1, days_between):\n",
    "        temp_date = actual_start + timedelta(days=i)\n",
    "        if temp_date.weekday() in {5, 6}:\n",
    "            weekend_days += 1\n",
    "\n",
    "    # Return the delta of two timestamps in working standard time (Monday 0:00 - Friday 23:59:59.9999)\n",
    "    return ((actual_end - actual_start).total_seconds() / 3600) - (weekend_days * 24)\n",
    "\n",
    "\n",
    "def delta_working_hours(actual_start, actual_end, calendar=False):\n",
    "    seconds_between = (actual_end - actual_start).total_seconds()\n",
    "\n",
    "    # Invalid negative value\n",
    "    if seconds_between < 0:\n",
    "        return None\n",
    "    elif calendar:\n",
    "        return seconds_between / 3600\n",
    "    else:  # Standard time calculation\n",
    "        workdays_difference = actual_end.date() - actual_start.date()\n",
    "        standard_start_T = time(0, 0)\n",
    "        standard_end_T = time(23, 59, 59, 9999)\n",
    "        weekend_days = 0\n",
    "\n",
    "        # When the work operation occurs on the same day or up to 1 day difference, return the plain difference\n",
    "        if workdays_difference < timedelta(days=2):\n",
    "            return seconds_between / 3600\n",
    "\n",
    "        # Else:\n",
    "        # Assign a new start or end of actual start or actual end if date falls on the weekend\n",
    "        if actual_start.weekday() == 5:\n",
    "            actual_start = dt.combine(actual_start.date() + timedelta(days=2), standard_start_T)\n",
    "        elif actual_start.weekday() == 6:\n",
    "            actual_start = dt.combine(actual_start.date() + timedelta(days=1), standard_start_T)\n",
    "        if actual_end.weekday() == 5:\n",
    "            actual_end = dt.combine(actual_end.date() - timedelta(days=1), standard_end_T)\n",
    "        elif actual_end.weekday() == 6:\n",
    "            actual_end = dt.combine(actual_end.date() - timedelta(days=2), standard_end_T)\n",
    "\n",
    "        # Find weekend days in between the start and end\n",
    "        days_between = (actual_end - actual_start).days\n",
    "        for i in range(1, days_between):\n",
    "            temp_date = actual_start + timedelta(days=i)\n",
    "            if temp_date.weekday() in {5, 6}:\n",
    "                weekend_days += 1\n",
    "\n",
    "        # Return the delta of two timestamps in working standard time (Monday 0:00 - Friday 23:59:59.9999)\n",
    "        return ((actual_end - actual_start).total_seconds() / 3600) - (weekend_days * 24)\n"
   ]
  },
  {
   "cell_type": "code",
   "execution_count": 3,
   "id": "b907914a",
   "metadata": {},
   "outputs": [
    {
     "name": "stdout",
     "output_type": "stream",
     "text": [
      "std: 7.47598888888889\n",
      "calendar: 7.47598888888889\n"
     ]
    }
   ],
   "source": [
    "i = 0\n",
    "date_1_str = \"2022-11-23 14:34:50.363\"\n",
    "date_2_str = \"2022-11-23 22:03:23.923\"\n",
    "# date_1_str = \"2023-03-20 09:17:27.947\"\n",
    "# date_2_str = \"2023-03-21 15:10:08.833\"\n",
    "\n",
    "date_1 = dt.strptime(date_1_str, '%Y-%m-%d %H:%M:%S.%f')\n",
    "date_2 = dt.strptime(date_2_str, '%Y-%m-%d %H:%M:%S.%f')\n",
    "\n",
    "standard_delta = delta_working_hours(date_1, date_2, i == 1)\n",
    "\n",
    "\n",
    "print(\"std:\", standard_delta)\n",
    "\n",
    "print(\"calendar:\", (date_2 - date_1).total_seconds() / 3600)\n"
   ]
  },
  {
   "cell_type": "code",
   "execution_count": 10,
   "id": "f3afeffd",
   "metadata": {},
   "outputs": [
    {
     "name": "stdout",
     "output_type": "stream",
     "text": [
      "2022-09-17 14:33:41.510801\n"
     ]
    }
   ],
   "source": [
    "\n",
    "\n",
    "my_set = set()\n",
    "\n",
    "my_list = []\n",
    "my_list.append((1, 2))\n",
    "my_list.append((3, 4))\n",
    "my_set.update(my_list)\n",
    "my_set\n",
    "\n",
    "print(dt.now() - timedelta(days=262))"
   ]
  }
 ],
 "metadata": {
  "kernelspec": {
   "display_name": "Python 3",
   "language": "python",
   "name": "python3"
  },
  "language_info": {
   "codemirror_mode": {
    "name": "ipython",
    "version": 3
   },
   "file_extension": ".py",
   "mimetype": "text/x-python",
   "name": "python",
   "nbconvert_exporter": "python",
   "pygments_lexer": "ipython3",
   "version": "3.10.8"
  },
  "vscode": {
   "interpreter": {
    "hash": "2f4de0fe9bc0d73447d61f4374e6acf09ec50c3d940295d5e83050d757c3bf71"
   }
  }
 },
 "nbformat": 4,
 "nbformat_minor": 5
}
